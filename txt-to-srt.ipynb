{
 "cells": [
  {
   "cell_type": "code",
   "execution_count": 1,
   "id": "7f305ab5",
   "metadata": {},
   "outputs": [],
   "source": [
    "import codecs\n",
    "import re\n",
    "from datetime import datetime, date, time, timedelta"
   ]
  },
  {
   "cell_type": "code",
   "execution_count": 2,
   "id": "e50c5fff",
   "metadata": {},
   "outputs": [],
   "source": [
    "class ZoomChat2Txt:\n",
    "    def __init__(self, file_path):\n",
    "        self.text = ''\n",
    "        self.start_hour = None\n",
    "        self.ts0 = [] # timestamp start\n",
    "        self.ts1 = [] # timestamp end\n",
    "        self.delays = [] # t1 - t2 in ms\n",
    "        self.users = []\n",
    "        self.messages = []\n",
    "        self.load_file(file_path)\n",
    "        \n",
    "    def set_start_hour(self):\n",
    "        self.start_hour = self.ts0[0].hour\n",
    "    \n",
    "    def extract_ts0(self):\n",
    "        temp = re.findall(\"(\\d{2}:\\d{2}:\\d{2}) From\", self.text)\n",
    "        for t in temp:\n",
    "            self.ts0.append(self.txt_to_time(t))\n",
    "         \n",
    "    def extract_messages(self):\n",
    "        messages = re.split(\"\\d{2}:\\d{2}:\\d{2} From [ \\S]+to [ \\S]+:\", self.text)\n",
    "        messages.pop(0) # remove the first empty element\n",
    "        self.messages = [m.strip() for m in messages]\n",
    "        \n",
    "    def extract_users(self):\n",
    "        users = re.findall(\"\\d{2}:\\d{2}:\\d{2} From ([ \\S]+)to [ \\S]+:\", self.text)\n",
    "        self.users = [user.strip() for user in users]\n",
    "    \n",
    "    def load_file(self, file_path):\n",
    "        f = codecs.open(file_path, 'r', 'utf-8')\n",
    "        text = f.readlines()\n",
    "        self.text = ''.join(text)\n",
    "        self.extract_messages()\n",
    "        self.extract_ts0()\n",
    "        self.extract_users()\n",
    "        self.set_start_hour()\n",
    "        self.reset_hour()\n",
    "        self.generate_delays()\n",
    "        self.generate_ts1()\n",
    "    \n",
    "    \n",
    "    # input: datetime obj\n",
    "    # return: resetted datetime object\n",
    "    def reset_hour(self):\n",
    "        for i in range(len(self.ts0)):\n",
    "            self.ts0[i] -= timedelta(hours=self.start_hour)\n",
    "    \n",
    "#     # input: text\n",
    "#     # return: datetime object\n",
    "    def txt_to_time(self, text):\n",
    "        h, m, s = (int(part) for part in text.split(\":\"))\n",
    "        t = time(h,m,s)\n",
    "        return datetime.combine(date.today(), t)\n",
    "    \n",
    "#     # input:t1,t2 => datetime object\n",
    "#     # return: diff time in ms\n",
    "#     def diff_time(self, t1, t2):\n",
    "#         diff = t2 - t1\n",
    "#         return diff.seconds * 1000\n",
    "    \n",
    "    def generate_ts1(self):\n",
    "        for i, t in enumerate(self.ts0):\n",
    "            self.ts1.append(t + timedelta(milliseconds=self.delays[i]))\n",
    "        \n",
    "    \n",
    "    # input single message\n",
    "    # return delay time in ms\n",
    "    def generate_delays(self):\n",
    "        for i in range(len(self.messages)):\n",
    "            text_list = re.split(\"\\s\", self.messages[i])\n",
    "            result = len(text_list) * 200\n",
    "            if result > 3000:\n",
    "                result = 3000\n",
    "            self.delays.append(result)\n",
    "            \n",
    "    def display_result(self, elements=5):\n",
    "        for i in range(elements):\n",
    "            ts1ms = f\"{int([zoom2srt.ts1[0].microsecond/1000 if zoom2srt.ts1[0].microsecond >= 100000 else zoom2srt.ts1[0].microsecond][0]):03d}\"\n",
    "            print(i+1)\n",
    "            print(f\"{self.ts0[i].hour:02d}:{self.ts0[i].minute:02d}:{self.ts0[i].second:02d},000  -->  {self.ts1[i].hour:02d}:{self.ts1[i].minute:02d}:{self.ts1[i].second:02d},{ts1ms}\")\n",
    "            print(f\"<b>{self.users[i]}</b>: {self.messages[i]}\", end=\"\\n\\n\")\n",
    "            \n",
    "            \n",
    "    def save_srt(self, file_path):\n",
    "        with codecs.open(file_path, 'w+', 'utf-8') as f:\n",
    "            for i in range(len(self.users)):\n",
    "                ts1ms = f\"{int([zoom2srt.ts1[0].microsecond/1000 if zoom2srt.ts1[0].microsecond >= 100000 else zoom2srt.ts1[0].microsecond][0]):03d}\"\n",
    "                f.write(str(i+1))\n",
    "                f.write(\"\\n\")\n",
    "                f.write(f\"{self.ts0[i].hour:02d}:{self.ts0[i].minute:02d}:{self.ts0[i].second:02d},000  -->  {self.ts1[i].hour:02d}:{self.ts1[i].minute:02d}:{self.ts1[i].second:02d},{ts1ms}\")\n",
    "                f.write(\"\\n\")\n",
    "                f.write(f\"<b>{self.users[i]}</b>: {self.messages[i]}\")\n",
    "                f.write(\"\\n\")\n",
    "                f.write(\"\\n\")\n",
    "            f.close()\n",
    "        print(f\"Success exporting srt files: {file_path}\")"
   ]
  },
  {
   "cell_type": "code",
   "execution_count": 3,
   "id": "e9053721",
   "metadata": {},
   "outputs": [],
   "source": [
    "zoom2srt = ZoomChat2Txt('meeting_saved_chat.txt')"
   ]
  },
  {
   "cell_type": "code",
   "execution_count": 4,
   "id": "07c083aa",
   "metadata": {},
   "outputs": [
    {
     "name": "stdout",
     "output_type": "stream",
     "text": [
      "1\n",
      "00:02:35,000  -->  00:02:36,200\n",
      "<b>Host</b>: Yang mau request lagu boleh nih\n",
      "\n",
      "2\n",
      "00:03:12,000  -->  00:03:12,200\n",
      "<b>Participant1</b>: opick-tombo ati *****\n",
      "\n",
      "3\n",
      "00:03:16,000  -->  00:03:16,200\n",
      "<b>Participant3</b>: cocok\n",
      "\n"
     ]
    }
   ],
   "source": [
    "zoom2srt.display_result(3)"
   ]
  },
  {
   "cell_type": "code",
   "execution_count": 5,
   "id": "ab9a93ee",
   "metadata": {},
   "outputs": [
    {
     "name": "stdout",
     "output_type": "stream",
     "text": [
      "Success exporting srt files: zoom_saved_chat.srt\n"
     ]
    }
   ],
   "source": [
    "zoom2srt.save_srt('zoom_saved_chat.srt')"
   ]
  }
 ],
 "metadata": {
  "kernelspec": {
   "display_name": "Python [conda env:py38]",
   "language": "python",
   "name": "conda-env-py38-py"
  },
  "language_info": {
   "codemirror_mode": {
    "name": "ipython",
    "version": 3
   },
   "file_extension": ".py",
   "mimetype": "text/x-python",
   "name": "python",
   "nbconvert_exporter": "python",
   "pygments_lexer": "ipython3",
   "version": "3.8.12"
  }
 },
 "nbformat": 4,
 "nbformat_minor": 5
}
